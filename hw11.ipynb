{
  "nbformat": 4,
  "nbformat_minor": 0,
  "metadata": {
    "colab": {
      "provenance": [],
      "authorship_tag": "ABX9TyMo/kkr6ofOdIExuQT9ryTe",
      "include_colab_link": true
    },
    "kernelspec": {
      "name": "python3",
      "display_name": "Python 3"
    },
    "language_info": {
      "name": "python"
    }
  },
  "cells": [
    {
      "cell_type": "markdown",
      "metadata": {
        "id": "view-in-github",
        "colab_type": "text"
      },
      "source": [
        "<a href=\"https://colab.research.google.com/github/ProYulia/Hello_Python/blob/main/hw11.ipynb\" target=\"_parent\"><img src=\"https://colab.research.google.com/assets/colab-badge.svg\" alt=\"Open In Colab\"/></a>"
      ]
    },
    {
      "cell_type": "markdown",
      "source": [
        "Дана функция: f(x) = -12x^4*sin(cos(x)) - 18x^3+5x^2 + 10x - 30\n",
        "\n",
        "Для данной функции необходимо:\n",
        "\n",
        "- Построить график\n",
        "\n",
        "- Определить корни \n",
        "\n",
        "- Найти интервалы, на которых функция возрастает и убывает \n",
        "\n",
        "- Определить промежутки, на котором f > 0 и f < 0\n"
      ],
      "metadata": {
        "id": "eiD2M5YbkBt9"
      }
    },
    {
      "cell_type": "code",
      "execution_count": 42,
      "metadata": {
        "id": "dWFv5o8b4fzl"
      },
      "outputs": [],
      "source": [
        "from sympy import symbols, sin, cos\n",
        "from sympy.plotting import plot\n",
        "from scipy.optimize import fsolve\n",
        "import numpy as np"
      ]
    },
    {
      "cell_type": "markdown",
      "source": [
        "Строим график функции:"
      ],
      "metadata": {
        "id": "-B6bvS_Cniit"
      }
    },
    {
      "cell_type": "code",
      "source": [
        "x = symbols('x')\n",
        "plot(-12 * x**4 * sin(cos(x)) - 18 * x**3 + 5 * x**2 + 10 * x - 30, (x, -10, 10))\n"
      ],
      "metadata": {
        "colab": {
          "base_uri": "https://localhost:8080/",
          "height": 315
        },
        "id": "DlaJXhHy5dQj",
        "outputId": "6196da7d-2a89-44f4-f78d-ee2dbc88b4a9"
      },
      "execution_count": 41,
      "outputs": [
        {
          "output_type": "display_data",
          "data": {
            "text/plain": [
              "<Figure size 432x288 with 1 Axes>"
            ],
            "image/png": "[encoded data removed]"
          },
          "metadata": {
            "needs_background": "light"
          }
        },
        {
          "output_type": "execute_result",
          "data": {
            "text/plain": [
              "<sympy.plotting.plot.Plot at 0x7f3091ed0750>"
            ]
          },
          "metadata": {},
          "execution_count": 41
        }
      ]
    },
    {
      "cell_type": "code",
      "source": [
        "def f(x):\n",
        "  return -12 * x**4 * np.sin(np.cos(x)) - 18 * x**3 + 5 * x**2 + 10 * x - 30"
      ],
      "metadata": {
        "id": "Av5MIU3T5zY9"
      },
      "execution_count": 43,
      "outputs": []
    },
    {
      "cell_type": "markdown",
      "source": [
        "Запрашиваем у пользователя интервал для анализа:"
      ],
      "metadata": {
        "id": "rhNUapoSiKod"
      }
    },
    {
      "cell_type": "code",
      "source": [
        "segment = list(map(float, input('Задайте через пробел интервал для x: ').split()))\n",
        "left_point = min(segment)\n",
        "right_point = max(segment)"
      ],
      "metadata": {
        "id": "0_6i450Jk-kI"
      },
      "execution_count": null,
      "outputs": []
    },
    {
      "cell_type": "markdown",
      "source": [
        "Ищем корни уравнения для заданного интервала:"
      ],
      "metadata": {
        "id": "p6nK0qkqkCb-"
      }
    },
    {
      "cell_type": "code",
      "source": [
        "def find_roots():\n",
        "  global left_point, right_point\n",
        "  number = left_point\n",
        "  right_point = right_point\n",
        "  roots = []\n",
        "  growth_interval = []\n",
        "\n",
        "  while number < right_point:\n",
        "      if f(number) >= 0 and f(number + 1) <= 0:\n",
        "          w = fsolve(f, number)\n",
        "          roots.append(*w)\n",
        "      if f(number) <= 0 and f(number + 1) >= 0:\n",
        "          w = fsolve(f, number)\n",
        "          roots.append(*w)\n",
        "      if f(number) > f(number + 1) < f(number + 2):\n",
        "          growth_interval.append(number + 1)\n",
        "      number += 1\n",
        "  roots = [round(i,2) for i in roots]\n",
        "  print(f'Корни уравнения для заданного интервала: {roots}')\n",
        "  return roots"
      ],
      "metadata": {
        "id": "dabLlsL_j6UR"
      },
      "execution_count": null,
      "outputs": []
    },
    {
      "cell_type": "markdown",
      "source": [
        "Ищем промежутки на заданном интервале, где f>0 и f<0:"
      ],
      "metadata": {
        "id": "3H4lQX1VktC7"
      }
    },
    {
      "cell_type": "code",
      "source": [
        "def search_top(left, right):\n",
        "    array = []\n",
        "    temp = left\n",
        "    while left < right:\n",
        "        array.append([f(left), left])\n",
        "        left += 0.1\n",
        "    if array[0][0] > 0:\n",
        "        print(f'f > 0 в промежутке {temp, right}')\n",
        "        return max(array)\n",
        "    else:\n",
        "        print(f'f < 0 в промежутке {temp, right}')\n",
        "        return min(array)\n"
      ],
      "metadata": {
        "id": "sRnOTbuOktQU"
      },
      "execution_count": null,
      "outputs": []
    },
    {
      "cell_type": "markdown",
      "source": [
        "Ищем вершины функции на заданном интервале:"
      ],
      "metadata": {
        "id": "TI7wbMgSlrln"
      }
    },
    {
      "cell_type": "code",
      "source": [
        "def find_func_top():\n",
        "  roots = find_roots()\n",
        "\n",
        "  if len(roots) < 2:\n",
        "      print('На заданном интервале нет вершин')\n",
        "  else:\n",
        "      top = []\n",
        "      for i in range(len(roots) - 1):\n",
        "        top.append(search_top(roots[i], roots[i + 1]))\n",
        "      # [print(item[1], ',', item[0]) for item in top]\n",
        "      for item in top:\n",
        "        item = [round(i,2) for i in item]\n",
        "        print(f'Координаты вершины на заданном интервале: [{item[1]}, {item[0]}]')\n",
        "      if len(top) < 2:\n",
        "          print('Недостаточно данных для анализа, измените интервал')\n",
        "      else:\n",
        "          for i in range(len(top) - 1):\n",
        "              if top[i][0] > top[i + 1][0]:\n",
        "                  print('Функция убывает')\n",
        "              else:\n",
        "                  print('Функция возрастает')\n",
        "find_func_top()"
      ],
      "metadata": {
        "id": "k94TzD7Llr28",
        "colab": {
          "base_uri": "https://localhost:8080/"
        },
        "outputId": "d5eb44c4-11dd-4cfd-d70f-d24ef1701390"
      },
      "execution_count": null,
      "outputs": [
        {
          "output_type": "stream",
          "name": "stdout",
          "text": [
            "Корни уравнения для заданного интервала: [2.27, 4.38, 8.04]\n",
            "f < 0 в промежутке (2.27, 4.38)\n",
            "f > 0 в промежутке (4.38, 8.04)\n",
            "Координаты вершины на заданном интервале: [2.27, -0.88]\n",
            "Координаты вершины на заданном интервале: [4.38, 12.9]\n",
            "Функция возрастает\n"
          ]
        }
      ]
    }
  ]
}