{
  "nbformat": 4,
  "nbformat_minor": 0,
  "metadata": {
    "colab": {
      "provenance": [],
      "collapsed_sections": [],
      "authorship_tag": "ABX9TyPn8dc2am5HnowwpPTWJaqf",
      "include_colab_link": true
    },
    "kernelspec": {
      "name": "python3",
      "display_name": "Python 3"
    },
    "language_info": {
      "name": "python"
    }
  },
  "cells": [
    {
      "cell_type": "markdown",
      "metadata": {
        "id": "view-in-github",
        "colab_type": "text"
      },
      "source": [
        "<a href=\"https://colab.research.google.com/github/ProYulia/Hello_Python/blob/main/hw5.ipynb\" target=\"_parent\"><img src=\"https://colab.research.google.com/assets/colab-badge.svg\" alt=\"Open In Colab\"/></a>"
      ]
    },
    {
      "cell_type": "markdown",
      "source": [
        "Задача 1. Напишите программу, удаляющую из текста все слова, содержащие \"абв\""
      ],
      "metadata": {
        "id": "a6WjMp3p_NAr"
      }
    },
    {
      "cell_type": "code",
      "source": [
        "import re\n",
        "\n",
        "string = 'Мы неабв очень любим Питон иабв абв'\n",
        "letter = 'абв'\n",
        "\n",
        "words = re.sub(f'[\\s\\W]*(\\w*{letter}\\w*)[\\s\\W]*',' ', string)\n",
        "print(words)"
      ],
      "metadata": {
        "colab": {
          "base_uri": "https://localhost:8080/"
        },
        "id": "cdVxr9eW_Qm_",
        "outputId": "543611a3-7de5-4fd6-f69f-ac6ead482c2b"
      },
      "execution_count": 5,
      "outputs": [
        {
          "output_type": "stream",
          "name": "stdout",
          "text": [
            "Мы очень любим Питон  \n"
          ]
        }
      ]
    },
    {
      "cell_type": "markdown",
      "source": [
        "Задача 2.1 Создайте программу для игры с конфетами человек против человека."
      ],
      "metadata": {
        "id": "eJnouq2VOf_M"
      }
    },
    {
      "cell_type": "code",
      "execution_count": null,
      "metadata": {
        "id": "t49f2jgcyxdA"
      },
      "outputs": [],
      "source": [
        "from random import randint\n",
        "\n",
        "def dialog(total):\n",
        "    while True:\n",
        "        answer = input('Сколько конфет вы хотите взять? ')\n",
        "        if not answer.isdigit():\n",
        "            print('Нужно ввести число!')\n",
        "            continue\n",
        "        answer = int(answer)\n",
        "        if not answer in range(1, 29):\n",
        "            print('Вы можете взять от 1 до 28 конфет за ход. Попробуйте еще раз!')\n",
        "            continue\n",
        "        if answer > total:\n",
        "            print(f'На столе осталось {total} конфет! Попробуйте еще раз!')\n",
        "            continue\n",
        "        total -= answer\n",
        "        print(f'Осталось {total} конфет')\n",
        "        return total\n",
        "        break\n",
        "\n",
        "def main(sweets, name1, name2):\n",
        "  turn = 0\n",
        "  while sweets !=0:\n",
        "      sweets = dialog(sweets)\n",
        "      turn += 1\n",
        "  if turn % 2 == 0:\n",
        "    print(f'{name2} победил! Все конфеты достаются ему!')\n",
        "  else:\n",
        "    print(f'{name1} победил! Все конфеты достаются ему!')\n",
        "\n",
        "sweets = 2021\n",
        "print('На столе лежит 2021 конфета. Играют два игрока делая ход друг после друга. \\\n",
        "\\nПервый ход определяется жеребьёвкой. За один ход можно забрать не более чем 28 конфет.\\\n",
        "\\nВсе конфеты оппонента достаются сделавшему последний ход. Начинаем игру!')\n",
        "player1 = input('Как зовут первого игрока? ')\n",
        "player2 = input('Как зовут второго игрока? ')\n",
        "lottery = randint(1,2)\n",
        "if lottery == 2:\n",
        "  temp = player1\n",
        "  player1 = player2\n",
        "  player2 = temp\n",
        "print(f'Жребий решил, что {player1} ходит первым')\n",
        "main(sweets, player1, player2)\n",
        "  \n",
        "\n",
        "\n"
      ]
    },
    {
      "cell_type": "markdown",
      "source": [
        "\n",
        "Задача 2.2 Добавьте игру против бота"
      ],
      "metadata": {
        "id": "GAzP6JNdOqIg"
      }
    },
    {
      "cell_type": "code",
      "source": [
        "from random import randint\n",
        "\n",
        "def bot(total, max):\n",
        "  if total < max: max = total\n",
        "  bot = randint(1, max)\n",
        "  print(f'Sweet Bot взял {bot} конфет')\n",
        "  total -= bot\n",
        "  print(f'Осталось {total} конфет')\n",
        "  return total\n",
        "\n",
        "def user(total):\n",
        "    while True:\n",
        "        answer = input('Сколько конфет вы хотите взять? ')\n",
        "        if not answer.isdigit():\n",
        "            print('Нужно ввести число!')\n",
        "            continue\n",
        "        answer = int(answer)\n",
        "        if not answer in range(1, 29):\n",
        "            print('Вы можете взять от 1 до 28 конфет за ход. Попробуйте еще раз!')\n",
        "            continue\n",
        "        if answer > total:\n",
        "            print(f'На столе осталось {total} конфет! Попробуйте еще раз!')\n",
        "            continue\n",
        "        total -= answer\n",
        "        print(f'Осталось {total} конфет')\n",
        "        return total\n",
        "        break\n",
        "\n",
        "def main(sweets, name1, name2, firstMove):\n",
        "  turn = 0\n",
        "  while sweets !=0:\n",
        "    if firstMove == 'Sweet Bot':\n",
        "      sweets = bot(sweets, 28); turn += 1\n",
        "      sweets = user(sweets); turn += 1\n",
        "    else:\n",
        "      sweets = user(sweets); turn += 1\n",
        "      sweets = bot(sweets, 28); turn +=1\n",
        "  if turn % 2 == 0:\n",
        "    print(f'{name2} победил! Все конфеты достаются ему!')\n",
        "  else:\n",
        "    print(f'{name1} победил! Все конфеты достаются ему!')\n",
        "\n",
        "sweets = 2021\n",
        "print('На столе лежит 2021 конфета. Играют два игрока делая ход друг после друга. \\\n",
        "\\nПервый ход определяется жеребьёвкой. За один ход можно забрать не более чем 28 конфет.\\\n",
        "\\nВсе конфеты оппонента достаются сделавшему последний ход. \\nНачинаем игру!\\n')\n",
        "\n",
        "player1, player2 = input('Как вас зовут? '), 'Sweet Bot'\n",
        "print(f'\\n{player1} вы играете против {player2}')\n",
        "lottery = randint(1,2)\n",
        "if lottery == 2:\n",
        "  temp = player1\n",
        "  player1 = player2\n",
        "  player2 = temp\n",
        "print(f'Жребий решил, что {player1} ходит первым\\n')\n",
        "\n",
        "main(sweets, player1, player2, player1)"
      ],
      "metadata": {
        "id": "xsbg-lb-O0Xl"
      },
      "execution_count": null,
      "outputs": []
    },
    {
      "cell_type": "markdown",
      "source": [
        "Задача 2.3 Подумайте, как наделить бота \"интеллектом\""
      ],
      "metadata": {
        "id": "RsuBfTHtc_za"
      }
    },
    {
      "cell_type": "code",
      "source": [
        "from random import randint\n",
        "\n",
        "def bot(total):\n",
        "  bot = total % 29\n",
        "  print(f'Sweet Bot взял {bot} конфет')\n",
        "  total -= bot\n",
        "  print(f'Осталось {total} конфет')\n",
        "  return total\n",
        "\n",
        "def user(total):\n",
        "    while True:\n",
        "        answer = input('Сколько конфет вы хотите взять? ')\n",
        "        if not answer.isdigit():\n",
        "            print('Нужно ввести число!')\n",
        "            continue\n",
        "        answer = int(answer)\n",
        "        if not answer in range(1, 29):\n",
        "            print('Вы можете взять от 1 до 28 конфет за ход. Попробуйте еще раз!')\n",
        "            continue\n",
        "        if answer > total:\n",
        "            print(f'На столе осталось {total} конфет! Попробуйте еще раз!')\n",
        "            continue\n",
        "        total -= answer\n",
        "        print(f'Осталось {total} конфет')\n",
        "        return total\n",
        "        break\n",
        "\n",
        "def main(sweets, name1, name2):\n",
        "  turn = 0\n",
        "  while sweets !=0:\n",
        "    if name1 == 'Super Smart Bot':\n",
        "      sweets = bot(sweets); turn += 1\n",
        "      sweets = user(sweets); turn += 1\n",
        "    else:\n",
        "      sweets = user(sweets); turn += 1\n",
        "      sweets = bot(sweets); turn +=1\n",
        "  if turn % 2 == 0:\n",
        "    print(f'{name2} победил! Все конфеты достаются ему!')\n",
        "  else:\n",
        "    print(f'{name1} победил! Все конфеты достаются ему!')\n",
        "\n",
        "sweets = 2021\n",
        "print(f'На столе лежит {sweets} конфета. Играют два игрока делая ход друг после друга. \\\n",
        "\\nПервый ход определяется жеребьёвкой. За один ход можно забрать не более чем 28 конфет.\\\n",
        "\\nВсе конфеты оппонента достаются сделавшему последний ход. \\nНачинаем игру!\\n')\n",
        "\n",
        "player1, player2 = input('Как вас зовут? '), 'Super Smart Bot'\n",
        "print(f'\\n{player1} вы играете против {player2}')\n",
        "lottery = randint(1,2)\n",
        "if lottery == 2:\n",
        "  temp = player1\n",
        "  player1 = player2\n",
        "  player2 = temp\n",
        "print(f'Жребий решил, что {player1} ходит первым\\n')\n",
        "\n",
        "main(sweets, player1, player2)\n"
      ],
      "metadata": {
        "id": "C1lhA1eWVCt5"
      },
      "execution_count": null,
      "outputs": []
    },
    {
      "cell_type": "markdown",
      "source": [
        "Задача 3. Создайте программу для игры в \"\"Крестики-нолики\"\""
      ],
      "metadata": {
        "id": "hjkuhFfM5Rhi"
      }
    },
    {
      "cell_type": "code",
      "source": [
        "from tkinter import *\n",
        "from tkinter import messagebox\n",
        "import tkinter.font as font\n",
        "\n",
        "window = Tk()\n",
        "window.title(\"Крестики-нолики\")\n",
        "\n",
        "def chose_winner(mylist):\n",
        "    winning_position = [[0,1,2], [3,4,5], [6,7,8],[0,3,6],\\\n",
        "                       [1,4,7], [2,5,8],[6,4,2], [0,4,8]]\n",
        "    for position in winning_position:\n",
        "        if mylist[position[0]] == mylist[position[1]] == mylist[position[2]]\\\n",
        "         and mylist[position[0]] in ('X0'):\n",
        "            if mylist[position[0]] == 'X':\n",
        "                messagebox.showinfo(\"Congrats!\", 'Победили крестики!') \n",
        "                window.destroy()\n",
        "            if mylist[position[0]] == '0':\n",
        "                messagebox.showinfo(\"Congrats!\", 'Победили нолики!') \n",
        "                window.destroy()\n",
        "    if ' ' not in mylist:\n",
        "        messagebox.showinfo(\"Congrats!\", 'Ничья!') \n",
        "        window.destroy()\n",
        "\n",
        "def push(board, cell):\n",
        "    global turn\n",
        "    if turn % 2 == 0:\n",
        "        board[cell] = 'X'\n",
        "        button[cell].config(text='X', state = 'disabled')\n",
        "        turn += 1\n",
        "    else:\n",
        "        board[cell] = '0'\n",
        "        button[cell].config(text='0', state = 'disabled')\n",
        "        turn += 1\n",
        "    if turn > 3:\n",
        "        chose_winner(board)\n",
        "\n",
        "\n",
        "mylist = [\" \"] * 9\n",
        "turn = 0\n",
        "\n",
        "myFont = font.Font(size = 42)\n",
        "button = [Button( width = 2, height = 1, font = myFont, \\\n",
        "                 command = lambda x = i: push(mylist,x)) for i in range (9)]\n",
        "\n",
        "row = 1; col = 0\n",
        "for i in range(9):\n",
        "    button[i].grid(row = row, column = col, sticky=W+E)\n",
        "    col += 1\n",
        "    if col == 3:\n",
        "        row += 1; col = 0\n",
        "\n",
        "label_1 = Label(height=3, text = 'Делайте ход')\n",
        "label_1.grid(row = 4, column = 0, columnspan=3)\n",
        "\n",
        "window.mainloop()"
      ],
      "metadata": {
        "id": "tMCiB-yg5WCx"
      },
      "execution_count": null,
      "outputs": []
    },
    {
      "cell_type": "markdown",
      "source": [
        "Задача 4. Реализуйте RLE алгоритм: реализуйте модуль сжатия и восстановления данных"
      ],
      "metadata": {
        "id": "XkIuCkIv57SG"
      }
    },
    {
      "cell_type": "code",
      "source": [
        "import re\n",
        "\n",
        "def compression(string):\n",
        "  count = 1\n",
        "  result = ''\n",
        "  for i in range(0, len(string) - 1):\n",
        "      if string[i] == string[i+1]:\n",
        "          count += 1\n",
        "      else: \n",
        "          result += str(count)+string[i]\n",
        "          count = 1\n",
        "  return (result + str(count)+string[-1])\n",
        "\n",
        "def decompression(string):\n",
        "  nums = re.findall(r'\\d+', string)\n",
        "  letters = re.findall(r'[A-Z]', string)\n",
        "  return(''.join(list(map(lambda x, y: int(x)*y, nums, letters))))\n",
        "\n",
        "with open('myFile', 'w') as f:\n",
        "     f.write('RRUUUUUUUUUUXXXKHHHHHHMMMMMMGGGLLLLLLLJJJJ')\n",
        "\n",
        "\n",
        "with open('myFile', 'r') as f, open('compressed', 'w+') as f2, open('decompressed', 'w+') as f3:\n",
        "    compressed = compression(f.read())\n",
        "    f2.write(compressed)\n",
        "print(compressed)\n",
        "\n",
        "\n",
        "with open('compressed', 'r') as f2, open('decompressed', 'w+') as f3:\n",
        "    decompressed = decompression(f2.read())\n",
        "    f3.write(decompressed)\n",
        "print(decompressed)\n"
      ],
      "metadata": {
        "colab": {
          "base_uri": "https://localhost:8080/"
        },
        "id": "7b99ogzj6D03",
        "outputId": "7eacf6d6-0f91-458c-e193-666021ef1bdb"
      },
      "execution_count": 8,
      "outputs": [
        {
          "output_type": "stream",
          "name": "stdout",
          "text": [
            "2R10U3X1K6H6M3G7L4J\n",
            "RRUUUUUUUUUUXXXKHHHHHHMMMMMMGGGLLLLLLLJJJJ\n"
          ]
        }
      ]
    }
  ]
}