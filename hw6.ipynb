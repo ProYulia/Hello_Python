{
  "nbformat": 4,
  "nbformat_minor": 0,
  "metadata": {
    "colab": {
      "provenance": [],
      "authorship_tag": "ABX9TyMZr4xUbka0kODp0lStpbE3",
      "include_colab_link": true
    },
    "kernelspec": {
      "name": "python3",
      "display_name": "Python 3"
    },
    "language_info": {
      "name": "python"
    }
  },
  "cells": [
    {
      "cell_type": "markdown",
      "metadata": {
        "id": "view-in-github",
        "colab_type": "text"
      },
      "source": [
        "<a href=\"https://colab.research.google.com/github/ProYulia/Hello_Python/blob/main/hw6.ipynb\" target=\"_parent\"><img src=\"https://colab.research.google.com/assets/colab-badge.svg\" alt=\"Open In Colab\"/></a>"
      ]
    },
    {
      "cell_type": "markdown",
      "source": [
        "Задача: предложить улучшения кода для уже решённых задач (3-5 задач):\n",
        "С помощью использования **лямбд, filter, map, zip, enumerate, list comprehension"
      ],
      "metadata": {
        "id": "ITPrdbHTtfKJ"
      }
    },
    {
      "cell_type": "markdown",
      "source": [
        "1. Напишите программу, которая будет на вход принимать число N \n",
        " и выводить числа от -N до N"
      ],
      "metadata": {
        "id": "gYtPAHPvtkZW"
      }
    },
    {
      "cell_type": "code",
      "execution_count": 6,
      "metadata": {
        "colab": {
          "base_uri": "https://localhost:8080/"
        },
        "id": "PhATxbsjY2wn",
        "outputId": "5ced8722-2c9b-453f-f25f-2c05afbb6178"
      },
      "outputs": [
        {
          "output_type": "stream",
          "name": "stdout",
          "text": [
            "Введите число: 5\n",
            "[-5, -4, -3, -2, -1, 0, 1, 2, 3, 4, 5]\n"
          ]
        }
      ],
      "source": [
        "n = int(input(\"Введите число: \"))\n",
        "print([i for i in range(-n,n+1)])"
      ]
    },
    {
      "cell_type": "markdown",
      "source": [
        "2. Задайте список из нескольких чисел. Напишите программу,\n",
        " которая найдёт сумму элементов списка, стоящих на нечётной позиции."
      ],
      "metadata": {
        "id": "tPJmLTlNteK4"
      }
    },
    {
      "cell_type": "code",
      "source": [
        "myList = [2, 10, 5, 10, 3, 8, 10]\n",
        "print(sum([myList[i] for i in range(1,len(myList),2)]))"
      ],
      "metadata": {
        "colab": {
          "base_uri": "https://localhost:8080/"
        },
        "id": "0_Qi2Uu5tubC",
        "outputId": "ede226e5-8827-4514-9bc5-fb8ba95ae89d"
      },
      "execution_count": 1,
      "outputs": [
        {
          "output_type": "stream",
          "name": "stdout",
          "text": [
            "28\n"
          ]
        }
      ]
    },
    {
      "cell_type": "code",
      "source": [
        "def sum_odd_index(userList):\n",
        "    sum = 0\n",
        "    for i, d in enumerate(userList):\n",
        "        if i % 2 != 0: sum += d\n",
        "    return sum\n",
        "print(sum_odd_index(myList))"
      ],
      "metadata": {
        "colab": {
          "base_uri": "https://localhost:8080/"
        },
        "id": "grm6y8O1t2VD",
        "outputId": "ee16ae30-ea4b-4308-f42f-cf7b5f1110d2"
      },
      "execution_count": 2,
      "outputs": [
        {
          "output_type": "stream",
          "name": "stdout",
          "text": [
            "28\n"
          ]
        }
      ]
    },
    {
      "cell_type": "markdown",
      "source": [
        "3. Задайте список. Напишите программу, которая определит, \n",
        "присутствует ли в заданном списке строк некое число."
      ],
      "metadata": {
        "id": "20FtQ1NxuAhF"
      }
    },
    {
      "cell_type": "code",
      "source": [
        "myList = ['765h34q', 'sdg7634d', '14jnbv']\n",
        "print(list(filter(lambda x: '76' in x, myList)))"
      ],
      "metadata": {
        "colab": {
          "base_uri": "https://localhost:8080/"
        },
        "id": "C13rPlHUt-oU",
        "outputId": "5fbba331-562d-4506-e029-2127dd530379"
      },
      "execution_count": 3,
      "outputs": [
        {
          "output_type": "stream",
          "name": "stdout",
          "text": [
            "['765h34q', 'sdg7634d']\n"
          ]
        }
      ]
    },
    {
      "cell_type": "markdown",
      "source": [
        "4 Задайте список из вещественных чисел. Напишите программу, которая найдёт разницу между максимальным и минимальным значением дробной части элементов."
      ],
      "metadata": {
        "id": "qi8h6OeIuPAx"
      }
    },
    {
      "cell_type": "code",
      "source": [
        "def fraction(x):\n",
        "    return round(x - int(x), 2)\n",
        "\n",
        "myList = [1.1, 1.2, 3.1, 10.01]\n",
        "result = list(map(fraction, myList))\n",
        "print(max(result) - min(result))"
      ],
      "metadata": {
        "colab": {
          "base_uri": "https://localhost:8080/"
        },
        "id": "OlYTAR-kuRH4",
        "outputId": "0ce95fc4-4843-4b24-d5e2-f759b60daa62"
      },
      "execution_count": 5,
      "outputs": [
        {
          "output_type": "stream",
          "name": "stdout",
          "text": [
            "0.19\n"
          ]
        }
      ]
    },
    {
      "cell_type": "markdown",
      "source": [
        "5. Напишите программу, которая найдёт произведение пар чисел списка. \n",
        "Парой считаем первый и последний элемент, второй и предпоследний и т.д."
      ],
      "metadata": {
        "id": "kG39SfxsuUX-"
      }
    },
    {
      "cell_type": "code",
      "source": [
        "s = [2, 3, 5, 6, 7]\n",
        "\n",
        "if len(s) % 2 == 0:\n",
        "    print([s[x]*s[len(s)-1-x] for x in range(len(s)//2)])\n",
        "else:\n",
        "    print([s[x]*s[len(s)-1-x] for x in range(len(s)//2+1)])"
      ],
      "metadata": {
        "colab": {
          "base_uri": "https://localhost:8080/"
        },
        "id": "02ogpVnauX5z",
        "outputId": "0e54643d-3844-40b4-a707-4df82f92c35d"
      },
      "execution_count": 4,
      "outputs": [
        {
          "output_type": "stream",
          "name": "stdout",
          "text": [
            "[14, 18, 25]\n"
          ]
        }
      ]
    }
  ]
}