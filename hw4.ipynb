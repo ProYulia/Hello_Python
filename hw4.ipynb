{
  "nbformat": 4,
  "nbformat_minor": 0,
  "metadata": {
    "colab": {
      "provenance": [],
      "authorship_tag": "ABX9TyOa+A3J3AZ/n8F2ljDfDgSF",
      "include_colab_link": true
    },
    "kernelspec": {
      "name": "python3",
      "display_name": "Python 3"
    },
    "language_info": {
      "name": "python"
    }
  },
  "cells": [
    {
      "cell_type": "markdown",
      "metadata": {
        "id": "view-in-github",
        "colab_type": "text"
      },
      "source": [
        "<a href=\"https://colab.research.google.com/github/ProYulia/Hello_Python/blob/main/hw4.ipynb\" target=\"_parent\"><img src=\"https://colab.research.google.com/assets/colab-badge.svg\" alt=\"Open In Colab\"/></a>"
      ]
    },
    {
      "cell_type": "code",
      "execution_count": 2,
      "metadata": {
        "id": "aZdBrxdmMXX8"
      },
      "outputs": [],
      "source": [
        "from math import pi"
      ]
    },
    {
      "cell_type": "code",
      "source": [
        "from re import X"
      ],
      "metadata": {
        "id": "MufACdR6Mbuw"
      },
      "execution_count": 3,
      "outputs": []
    },
    {
      "cell_type": "code",
      "source": [
        "from random import randint"
      ],
      "metadata": {
        "id": "DCpR0YGEMdjE"
      },
      "execution_count": 4,
      "outputs": []
    },
    {
      "cell_type": "code",
      "source": [
        "from sympy import *"
      ],
      "metadata": {
        "id": "KeoymeADMfeO"
      },
      "execution_count": 5,
      "outputs": []
    },
    {
      "cell_type": "markdown",
      "source": [
        "Задача 1. Вычислить число c заданной точностью d Пример: при $d = 0.001, π = 3.141"
      ],
      "metadata": {
        "id": "iIV-dXKmMhpy"
      }
    },
    {
      "cell_type": "code",
      "source": [
        "def round_pi(x):\n",
        "    n = len(d)-2\n",
        "    return round(pi, n)\n",
        "\n",
        "d = (input('Введите число: '))\n",
        "print(round_pi(d))"
      ],
      "metadata": {
        "colab": {
          "base_uri": "https://localhost:8080/"
        },
        "id": "-s2TESb6MoLx",
        "outputId": "a2bd639a-f496-4cfe-87a5-e041e9c52c99"
      },
      "execution_count": 6,
      "outputs": [
        {
          "output_type": "stream",
          "name": "stdout",
          "text": [
            "Введите число: 0.001\n",
            "3.142\n"
          ]
        }
      ]
    },
    {
      "cell_type": "markdown",
      "source": [
        "Задача 2. Задайте натуральное число N. Напишите программу, которая составит список простых множителей числа N. \"20\" -> [2, 2, 5]"
      ],
      "metadata": {
        "id": "LIAsJPYjMtGl"
      }
    },
    {
      "cell_type": "code",
      "source": [
        "def factors_n(num):\n",
        "   result = []\n",
        "   k = 2\n",
        "   while k * k <= num:\n",
        "       while num % k == 0:\n",
        "           result.append(k)\n",
        "           num = int(num / k)\n",
        "       k = k + 1\n",
        "   if num > 1:\n",
        "       result.append(num)\n",
        "   return result\n",
        "\n",
        "user_num = int(input('Введите натуральное число: '))\n",
        "print(factors_n(user_num))"
      ],
      "metadata": {
        "colab": {
          "base_uri": "https://localhost:8080/"
        },
        "id": "YvNuZcdoM1kq",
        "outputId": "a3efab15-fa28-4262-a4a5-96bcf2fc328a"
      },
      "execution_count": 7,
      "outputs": [
        {
          "output_type": "stream",
          "name": "stdout",
          "text": [
            "Введите натуральное число: 20\n",
            "[2, 2, 5]\n"
          ]
        }
      ]
    },
    {
      "cell_type": "markdown",
      "source": [
        " Задача 3. Задайте последовательность чисел. Напишите программу, которая выведет список неповторяющихся элементов исходной последовательности. [1, 1, 2, 3, 4, 5, 5] -> [2, 3, 4]"
      ],
      "metadata": {
        "id": "VFmhsUsbM6nS"
      }
    },
    {
      "cell_type": "code",
      "source": [
        "def count_unique(array):\n",
        "    mySet = set(array)\n",
        "    count = 0\n",
        "    result = []\n",
        "    for el in mySet:\n",
        "        count = array.count(el)\n",
        "        if count == 1:\n",
        "            result.append(el)\n",
        "    return result\n",
        "\n",
        "myList = [1, 1, 2, 3, 4, 5, 5] \n",
        "print(count_unique(myList))"
      ],
      "metadata": {
        "colab": {
          "base_uri": "https://localhost:8080/"
        },
        "id": "zyqy3rkdM-If",
        "outputId": "009847e0-b41e-4d8a-f64a-b58d9f0db6bb"
      },
      "execution_count": 8,
      "outputs": [
        {
          "output_type": "stream",
          "name": "stdout",
          "text": [
            "[2, 3, 4]\n"
          ]
        }
      ]
    },
    {
      "cell_type": "markdown",
      "source": [
        "Задача 4. Задана натуральная степень k. Сформировать случайным образом список коэффициентов (значения от 0 до 100) многочлена и записать в файл многочлен степени k. Пример: k=2 => 2*x² + 4*x + 5 = 0 или x² + 5 = 0 или 10*x² = 0"
      ],
      "metadata": {
        "id": "paQ3DTuPNGZM"
      }
    },
    {
      "cell_type": "code",
      "source": [
        "def create_equation(k):\n",
        "    randList = [randint(0,100)]\n",
        "    result = str(randList[0])\n",
        "    for counter in range(1,k+1):\n",
        "        randList.append(randint(0,100))\n",
        "        result = f'{randList[-1]}*x^{counter} + '+ result   \n",
        "    result = result.replace('x^1 ','x ') \n",
        "    result = result.replace(' + 0','') \n",
        "    result = result.replace(' 1*',' ')\n",
        "    return result\n",
        "\n",
        "k = int(input(\"Введите натуральную степень: \"))\n",
        "print(create_equation(k))\n",
        "\n",
        "with open('equation.txt', 'w+') as t:\n",
        "    t.write(create_equation(k))"
      ],
      "metadata": {
        "colab": {
          "base_uri": "https://localhost:8080/"
        },
        "id": "5VgvTU7DNMir",
        "outputId": "be37e6f8-148d-44d1-a605-3a95a242514d"
      },
      "execution_count": 10,
      "outputs": [
        {
          "output_type": "stream",
          "name": "stdout",
          "text": [
            "Введите натуральную степень: 3\n",
            "59*x^3 + 83*x^2 + 38*x + 4\n"
          ]
        }
      ]
    },
    {
      "cell_type": "markdown",
      "source": [
        "Задача 5. Даны два файла, в каждом из которых находится запись многочлена. Задача - сформировать файл, содержащий сумму многочленов."
      ],
      "metadata": {
        "id": "FCUiO9xfNVsc"
      }
    },
    {
      "cell_type": "code",
      "source": [
        "def merge_files(file1, file2, res_file):\n",
        "    x = Symbol('x')\n",
        "    with open(file1) as file1, open(file2) as file2, open(res_file, 'w') as file3 :\n",
        "        exp1, exp2 = file1.read(), file2.read()\n",
        "        exp1 = exp1.replace('^', '**')   \n",
        "        exp2 = exp2.replace('^', '**')\n",
        "        exp3 = sympify(exp1 + \" + \" + exp2)\n",
        "        exp3 = str(exp3)\n",
        "        file3.write(exp3.replace('**', '^'))\n",
        "\n",
        "with open('e1.txt', 'w') as e1, open('e2.txt', 'w') as e2:\n",
        "    e1.write('82*x^6 + 51*x^5 + 82*x^4 + 45*x^3 + 9*x^2 + 98*x + 70')\n",
        "    e2.write('33*x^4 + 84*x^3 + 23*x^2 + 63*x + 30')\n",
        "\n",
        "\n",
        "merge_files('e1.txt','e2.txt','e3.txt')\n",
        "with open('e3.txt', 'r') as f:\n",
        "    print(f.read())"
      ],
      "metadata": {
        "colab": {
          "base_uri": "https://localhost:8080/"
        },
        "id": "boqZxvtRNZ6H",
        "outputId": "8846fffd-2b3b-435e-a01c-2e2ba73456eb"
      },
      "execution_count": 12,
      "outputs": [
        {
          "output_type": "stream",
          "name": "stdout",
          "text": [
            "82*x^6 + 51*x^5 + 115*x^4 + 129*x^3 + 32*x^2 + 161*x + 100\n"
          ]
        }
      ]
    }
  ]
}