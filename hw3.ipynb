{
  "nbformat": 4,
  "nbformat_minor": 0,
  "metadata": {
    "colab": {
      "provenance": [],
      "authorship_tag": "ABX9TyPVg61SF78WyzSbaFolLKjo",
      "include_colab_link": true
    },
    "kernelspec": {
      "name": "python3",
      "display_name": "Python 3"
    },
    "language_info": {
      "name": "python"
    }
  },
  "cells": [
    {
      "cell_type": "markdown",
      "metadata": {
        "id": "view-in-github",
        "colab_type": "text"
      },
      "source": [
        "<a href=\"https://colab.research.google.com/github/ProYulia/Hello_Python/blob/main/hw3.ipynb\" target=\"_parent\"><img src=\"https://colab.research.google.com/assets/colab-badge.svg\" alt=\"Open In Colab\"/></a>"
      ]
    },
    {
      "cell_type": "markdown",
      "source": [
        "Задача 1. Задайте список из нескольких чисел. Напишите программу, которая найдёт сумму элементов списка, стоящих на нечётной позиции."
      ],
      "metadata": {
        "id": "OI63CnZ-6kSc"
      }
    },
    {
      "cell_type": "code",
      "execution_count": 2,
      "metadata": {
        "colab": {
          "base_uri": "https://localhost:8080/"
        },
        "id": "tHjaW5bu6b5g",
        "outputId": "f7f084ff-f308-4ea2-b70e-b0509f2592bf"
      },
      "outputs": [
        {
          "output_type": "stream",
          "name": "stdout",
          "text": [
            "20\n"
          ]
        }
      ],
      "source": [
        "myList = [2, 3, 5, 9, 3, 8, 10]\n",
        "\n",
        "def sum_odd_index(userList):\n",
        "    sum = 0\n",
        "    for i in range (1, len(myList), 2):\n",
        "        sum += myList[i]\n",
        "    return sum\n",
        "\n",
        "print(sum_odd_index(myList))"
      ]
    },
    {
      "cell_type": "markdown",
      "source": [
        "Задача 2. Напишите программу, которая найдёт произведение пар чисел списка. Парой считаем первый и последний элемент, второй и предпоследний и т.д."
      ],
      "metadata": {
        "id": "G765H_q668ig"
      }
    },
    {
      "cell_type": "code",
      "source": [
        "myList = [2, 3, 5, 6]\n",
        "\n",
        "def product_of_elements(userList):\n",
        "    first, last = 0, len(userList) -1\n",
        "    result = 0\n",
        "    while first < last:\n",
        "        print(userList[first] * userList[last])\n",
        "        first +=1; last -= 1\n",
        "    if len(userList) % 2 != 0:\n",
        "        print(userList[len(userList)//2] ** 2)\n",
        "\n",
        "product_of_elements(myList)"
      ],
      "metadata": {
        "colab": {
          "base_uri": "https://localhost:8080/"
        },
        "id": "EyzHtwY77CQT",
        "outputId": "46bff480-234f-44d1-89ca-7a93baeb882f"
      },
      "execution_count": 6,
      "outputs": [
        {
          "output_type": "stream",
          "name": "stdout",
          "text": [
            "12\n",
            "15\n"
          ]
        }
      ]
    },
    {
      "cell_type": "code",
      "source": [],
      "metadata": {
        "id": "rX_8ZBtX8N6Y"
      },
      "execution_count": null,
      "outputs": []
    },
    {
      "cell_type": "markdown",
      "source": [
        " Задача 3. Задайте список из вещественных чисел. Напишите программу, которая найдёт разницу между максимальным и минимальным значением дробной части элементов."
      ],
      "metadata": {
        "id": "U0jnNSrt7U_l"
      }
    },
    {
      "cell_type": "code",
      "source": [
        "# Вариант 1 математический\n",
        "myList = [1.1, 1.2, 3.1, 10.01]\n",
        "\n",
        "def frac_diff(userList):\n",
        "    for i in range(0, len(userList)):\n",
        "        userList[i] = round(userList[i] - userList[i] // 1, 2)\n",
        "    return max(userList) - min(userList)\n",
        "\n",
        "print(frac_diff(myList))"
      ],
      "metadata": {
        "colab": {
          "base_uri": "https://localhost:8080/"
        },
        "id": "MHW5oJWJ7ZFr",
        "outputId": "04196b1d-a4ec-4caa-8646-0d969571a68b"
      },
      "execution_count": 5,
      "outputs": [
        {
          "output_type": "stream",
          "name": "stdout",
          "text": [
            "0.19\n"
          ]
        }
      ]
    },
    {
      "cell_type": "code",
      "source": [
        "# Вариант 2 при помощи встроенного метода modf\n",
        "from math import modf\n",
        "\n",
        "myList = [1.1, 0.2, 3.1, 10.01]\n",
        "\n",
        "def diff(array):\n",
        "  temp = [] \n",
        "  for el in array:\n",
        "    element = modf(el)\n",
        "    temp.append(round(element[0],2))\n",
        "  print(max(temp)-min(temp))\n",
        "  \n",
        "diff(myList)"
      ],
      "metadata": {
        "colab": {
          "base_uri": "https://localhost:8080/"
        },
        "id": "7WGz4V2W8Pru",
        "outputId": "9bc5efe5-7193-44cc-e5f4-218b4e09d9f1"
      },
      "execution_count": 8,
      "outputs": [
        {
          "output_type": "stream",
          "name": "stdout",
          "text": [
            "0.19\n"
          ]
        }
      ]
    },
    {
      "cell_type": "markdown",
      "source": [
        "Задача 4. Напишите программу, которая будет преобразовывать десятичное число в двоичное (без встроенных функций)."
      ],
      "metadata": {
        "id": "ZLr-UxGd81NI"
      }
    },
    {
      "cell_type": "code",
      "source": [
        "num = int(input('Введите число: '))\n",
        "\n",
        "def my_binary(x):\n",
        "    result = ''\n",
        "    while x > 0:\n",
        "        result = str(x % 2) + result\n",
        "        x = x//2\n",
        "    return result\n",
        "\n",
        "print(my_binary(num))"
      ],
      "metadata": {
        "colab": {
          "base_uri": "https://localhost:8080/"
        },
        "id": "4xvna09F85D9",
        "outputId": "af749e04-171f-4654-ee7f-f33c7973ae7f"
      },
      "execution_count": 10,
      "outputs": [
        {
          "output_type": "stream",
          "name": "stdout",
          "text": [
            "Введите число: 2\n",
            "10\n"
          ]
        }
      ]
    },
    {
      "cell_type": "markdown",
      "source": [
        "Задача 5. Задайте число. Составьте список чисел Фибоначчи, в том числе для отрицательных индексов."
      ],
      "metadata": {
        "id": "F4cZ9F0e9IXJ"
      }
    },
    {
      "cell_type": "code",
      "source": [
        "def fibonacci(n):\n",
        "  if (n == 1) or (n == 2): return 1\n",
        "  else: return fibonacci(n - 1) + fibonacci(n - 2)\n",
        "\n",
        "def nega_Fibonacci(n):\n",
        "  if (n == 1) or (n == 2): return 1\n",
        "  else: return nega_Fibonacci(n + 2) - nega_Fibonacci(n + 1)\n",
        "\n",
        "num = int(input('Введите число: '))\n",
        "\n",
        "my_list=[]\n",
        "for el in range(-num, 1):\n",
        "  my_list.append(nega_Fibonacci(el))\n",
        "for el in range(1, num + 1):\n",
        "  my_list.append(fibonacci(el))\n",
        "  \n",
        "print(my_list)"
      ],
      "metadata": {
        "colab": {
          "base_uri": "https://localhost:8080/"
        },
        "id": "d2JO2Qi09LBi",
        "outputId": "391daa27-0dd1-41b1-c167-2571863fe4a2"
      },
      "execution_count": 13,
      "outputs": [
        {
          "output_type": "stream",
          "name": "stdout",
          "text": [
            "Введите число: 8\n",
            "[-21, 13, -8, 5, -3, 2, -1, 1, 0, 1, 1, 2, 3, 5, 8, 13, 21]\n"
          ]
        }
      ]
    }
  ]
}